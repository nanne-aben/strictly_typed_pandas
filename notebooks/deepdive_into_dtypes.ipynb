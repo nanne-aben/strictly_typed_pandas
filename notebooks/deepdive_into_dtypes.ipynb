{
 "metadata": {
  "language_info": {
   "codemirror_mode": {
    "name": "ipython",
    "version": 3
   },
   "file_extension": ".py",
   "mimetype": "text/x-python",
   "name": "python",
   "nbconvert_exporter": "python",
   "pygments_lexer": "ipython3",
   "version": "3.8.5"
  },
  "orig_nbformat": 2,
  "kernelspec": {
   "name": "python385jvsc74a57bd021955bae40816b58329a864495bd83642121ab031d49eff86d34b7b0569c6cea",
   "display_name": "Python 3.8.5 64-bit ('base': conda)"
  }
 },
 "nbformat": 4,
 "nbformat_minor": 2,
 "cells": [
  {
   "cell_type": "code",
   "execution_count": 1,
   "metadata": {},
   "outputs": [],
   "source": [
    "%load_ext autoreload\n",
    "%autoreload 2\n",
    "\n",
    "import sys\n",
    "sys.path.append(\"../\")\n",
    "\n",
    "import pandas as pd\n",
    "import numpy as np\n",
    "\n",
    "from typing import Any\n",
    "from strictly_typed_pandas import DataSet, IndexedDataSet"
   ]
  },
  {
   "source": [
    "# Numeric types\n",
    "\n",
    "Pandas stores all numeric data using numpy data types. For example, if we make the following `DataFrame` (where we explicitely define the data types using base python types):"
   ],
   "cell_type": "markdown",
   "metadata": {}
  },
  {
   "cell_type": "code",
   "execution_count": 2,
   "metadata": {},
   "outputs": [
    {
     "output_type": "execute_result",
     "data": {
      "text/plain": [
       "a      int64\n",
       "b    float64\n",
       "c       bool\n",
       "dtype: object"
      ]
     },
     "metadata": {},
     "execution_count": 2
    }
   ],
   "source": [
    "df = pd.DataFrame(\n",
    "    {\n",
    "        \"a\": pd.Series([1, 2, 3], dtype=int),\n",
    "        \"b\": pd.Series([1.0, 2.0, 3.0], dtype=float),\n",
    "        \"c\": pd.Series([True, False, True], dtype=bool)\n",
    "    }\n",
    ")\n",
    "\n",
    "df.dtypes"
   ]
  },
  {
   "source": [
    "Then we see that all columns have a numpy data type."
   ],
   "cell_type": "markdown",
   "metadata": {}
  },
  {
   "cell_type": "code",
   "execution_count": 3,
   "metadata": {},
   "outputs": [],
   "source": [
    "assert df.dtypes[\"a\"] == np.int\n",
    "assert df.dtypes[\"b\"] == np.float\n",
    "assert df.dtypes[\"c\"] == np.bool"
   ]
  },
  {
   "source": [
    "Interestingly, numpy data types are by default equal to their base python counterparts."
   ],
   "cell_type": "markdown",
   "metadata": {}
  },
  {
   "cell_type": "code",
   "execution_count": 4,
   "metadata": {},
   "outputs": [],
   "source": [
    "assert df.dtypes[\"a\"] == int\n",
    "assert df.dtypes[\"b\"] == float\n",
    "assert df.dtypes[\"c\"] == bool"
   ]
  },
  {
   "source": [
    "Following this mindset, we allow the schemas to be defined using either numpy or base python data types."
   ],
   "cell_type": "markdown",
   "metadata": {}
  },
  {
   "cell_type": "code",
   "execution_count": 5,
   "metadata": {},
   "outputs": [
    {
     "output_type": "execute_result",
     "data": {
      "text/plain": [
       "a      int64\n",
       "b    float64\n",
       "c       bool\n",
       "dtype: object"
      ]
     },
     "metadata": {},
     "execution_count": 5
    }
   ],
   "source": [
    "class Schema:\n",
    "    a: int\n",
    "    b: float\n",
    "    c: bool\n",
    "\n",
    "df = DataSet[Schema]()\n",
    "df.dtypes"
   ]
  },
  {
   "cell_type": "code",
   "execution_count": 6,
   "metadata": {},
   "outputs": [
    {
     "output_type": "execute_result",
     "data": {
      "text/plain": [
       "a      int64\n",
       "b    float64\n",
       "c       bool\n",
       "dtype: object"
      ]
     },
     "metadata": {},
     "execution_count": 6
    }
   ],
   "source": [
    "class Schema:\n",
    "    a: np.int64\n",
    "    b: np.float64\n",
    "    c: np.bool\n",
    "\n",
    "df = DataSet[Schema]()\n",
    "df.dtypes"
   ]
  },
  {
   "source": [
    "You can also define your schema with superclasses (e.g. `np.integer`) instead of specific classes (e.g. `np.int64`)."
   ],
   "cell_type": "markdown",
   "metadata": {}
  },
  {
   "cell_type": "code",
   "execution_count": 7,
   "metadata": {},
   "outputs": [
    {
     "output_type": "execute_result",
     "data": {
      "text/plain": [
       "a      int64\n",
       "b    float64\n",
       "dtype: object"
      ]
     },
     "metadata": {},
     "execution_count": 7
    }
   ],
   "source": [
    "class Schema:\n",
    "    a: np.integer\n",
    "    b: np.float\n",
    "\n",
    "df = DataSet[Schema](\n",
    "    {\n",
    "        \"a\": pd.Series([1, 2, 3], dtype=np.int64),\n",
    "        \"b\": pd.Series([1.0, 2.0, 3.0], dtype=np.float64)\n",
    "    }\n",
    ")\n",
    "df.dtypes"
   ]
  },
  {
   "source": [
    "# Datetime and timedelta\n",
    "These too are defined using numpy.\n"
   ],
   "cell_type": "markdown",
   "metadata": {}
  },
  {
   "cell_type": "code",
   "execution_count": 8,
   "metadata": {},
   "outputs": [
    {
     "output_type": "execute_result",
     "data": {
      "text/plain": [
       "a     datetime64[ns]\n",
       "b    timedelta64[ns]\n",
       "dtype: object"
      ]
     },
     "metadata": {},
     "execution_count": 8
    }
   ],
   "source": [
    "class Schema:\n",
    "    a: np.datetime64\n",
    "    b: np.timedelta64\n",
    "\n",
    "df = DataSet[Schema]()\n",
    "df.dtypes"
   ]
  },
  {
   "source": [
    "# Pandas data types\n",
    "Pandas has a number of its own data types, to allow for things like:\n",
    "* Timezones\n",
    "* Categorical values\n",
    "* Sparse data"
   ],
   "cell_type": "markdown",
   "metadata": {}
  },
  {
   "cell_type": "code",
   "execution_count": 9,
   "metadata": {},
   "outputs": [
    {
     "output_type": "execute_result",
     "data": {
      "text/plain": [
       "a    datetime64[ns, UTC]\n",
       "b               category\n",
       "c              period[D]\n",
       "d       Sparse[int64, 0]\n",
       "e        interval[int64]\n",
       "f                  Int64\n",
       "h                boolean\n",
       "dtype: object"
      ]
     },
     "metadata": {},
     "execution_count": 9
    }
   ],
   "source": [
    "class Schema:\n",
    "    a: pd.DatetimeTZDtype(tz=\"UTC\")  # type: ignore  # noqa: F821\n",
    "    b: pd.CategoricalDtype\n",
    "    c: pd.PeriodDtype(freq=\"D\")  # type: ignore  # noqa: F821\n",
    "    d: pd.SparseDtype(dtype=np.int64)  # type: ignore\n",
    "    e: pd.IntervalDtype\n",
    "    f: pd.Int64Dtype\n",
    "    h: pd.BooleanDtype\n",
    "\n",
    "df = DataSet[Schema]()\n",
    "df.dtypes"
   ]
  },
  {
   "source": [
    "Some of these types accept arguments (e.g. `pd.DatetimeTZDtype(tz=\"UTC\")`). While this works perfectly well during run-time, it does result in linting errors. You can suppress these without any problems by using `# type: ignore  # noqa: F821`.\n",
    "\n",
    "Note that the pandas data types are not considered equivalent to their numpy or base python equivalents."
   ],
   "cell_type": "markdown",
   "metadata": {}
  },
  {
   "cell_type": "code",
   "execution_count": 10,
   "metadata": {},
   "outputs": [
    {
     "output_type": "stream",
     "name": "stdout",
     "text": [
      "Column a is of type Int64, but the schema suggests <class 'numpy.int64'>\n"
     ]
    }
   ],
   "source": [
    "class SchemaA:\n",
    "    a: pd.Int64Dtype\n",
    "\n",
    "class SchemaB:\n",
    "    a: np.int64\n",
    "\n",
    "try:\n",
    "    (\n",
    "        DataSet[SchemaA]()\n",
    "        .pipe(DataSet[SchemaB])\n",
    "    )\n",
    "except TypeError as e:\n",
    "    print(e)"
   ]
  },
  {
   "source": [
    "# Strings\n",
    "String types are complicated business in pandas. From pandas 1.0.0 and higher, we suggest using the `string` (i.e. `pd.StringDtype`) data type. When defining a schema, this data type is compatible with both the base python `str` annotation and the pandas `pd.StringDtype` annotation."
   ],
   "cell_type": "markdown",
   "metadata": {}
  },
  {
   "cell_type": "code",
   "execution_count": 11,
   "metadata": {},
   "outputs": [
    {
     "output_type": "execute_result",
     "data": {
      "text/plain": [
       "a    string\n",
       "b    string\n",
       "dtype: object"
      ]
     },
     "metadata": {},
     "execution_count": 11
    }
   ],
   "source": [
    "class Schema:\n",
    "    a: str\n",
    "    b: pd.StringDtype\n",
    "\n",
    "df = DataSet[Schema](\n",
    "    {\n",
    "        \"a\": pd.Series([\"a\", \"b\", \"c\"], dtype=\"string\"),\n",
    "        \"b\": pd.Series([\"a\", \"b\", \"c\"], dtype=\"string\")\n",
    "    }\n",
    ")\n",
    "df.dtypes"
   ]
  },
  {
   "source": [
    "Unfortunately, `pd.StringDtype` has only been around briefly: it isn't available in older versions of python, and as of yet it is still not used by default when creating a DataFrame with strings. Instead, strings are by default stored as the non-descript `object` type."
   ],
   "cell_type": "markdown",
   "metadata": {}
  },
  {
   "cell_type": "code",
   "execution_count": 12,
   "metadata": {},
   "outputs": [
    {
     "output_type": "execute_result",
     "data": {
      "text/plain": [
       "a    object\n",
       "dtype: object"
      ]
     },
     "metadata": {},
     "execution_count": 12
    }
   ],
   "source": [
    "df = pd.DataFrame({\"a\": [\"a\", \"b\", \"c\"]})\n",
    "df.dtypes"
   ]
  },
  {
   "source": [
    "To be consistent, we have decided to set `str == object` when checking the schema, atleast until `pd.StringDtype` will be the default data type for strings in pandas."
   ],
   "cell_type": "markdown",
   "metadata": {}
  },
  {
   "cell_type": "code",
   "execution_count": 13,
   "metadata": {},
   "outputs": [
    {
     "output_type": "execute_result",
     "data": {
      "text/plain": [
       "a    object\n",
       "dtype: object"
      ]
     },
     "metadata": {},
     "execution_count": 13
    }
   ],
   "source": [
    "class Schema:\n",
    "    a: str\n",
    "\n",
    "df = DataSet[Schema]({\"a\": [\"a\", \"b\", \"c\"]})\n",
    "df.dtypes"
   ]
  },
  {
   "source": [
    "Note that this is horribly unspecific. For example, the following `DataSet` contains a column `a` with data type `object`, which contains several things that are definitely not strings. However, since we had to agree that `object == str`, this currently passes without failure."
   ],
   "cell_type": "markdown",
   "metadata": {}
  },
  {
   "cell_type": "code",
   "execution_count": 14,
   "metadata": {},
   "outputs": [
    {
     "output_type": "execute_result",
     "data": {
      "text/plain": [
       "a    object\n",
       "dtype: object"
      ]
     },
     "metadata": {},
     "execution_count": 14
    }
   ],
   "source": [
    "class Schema:\n",
    "    a: str\n",
    "\n",
    "df = DataSet[Schema](\n",
    "    {\n",
    "        \"a\": [None, 42, lambda x: x]\n",
    "    }\n",
    ")\n",
    "df.dtypes"
   ]
  },
  {
   "source": [
    "We hope that `pd.StringDtype` will soon be the default string type, so that we can avoid the problem outlined above. Until then, if you want to be sure that your string columns are actually strings, it's best to use `pd.StringDtype` for your type annotations."
   ],
   "cell_type": "markdown",
   "metadata": {}
  },
  {
   "cell_type": "code",
   "execution_count": 15,
   "metadata": {},
   "outputs": [],
   "source": [
    "class Schema:\n",
    "    a: pd.StringDtype\n",
    "\n",
    "df = DataSet[Schema](\n",
    "    {\n",
    "        \"a\": pd.Series([\"a\", \"b\", \"c\"], dtype=\"string\")\n",
    "    }\n",
    ")"
   ]
  },
  {
   "cell_type": "code",
   "execution_count": 16,
   "metadata": {},
   "outputs": [
    {
     "output_type": "stream",
     "name": "stdout",
     "text": [
      "Column a is of type numpy.object, but the schema suggests <class 'pandas.core.arrays.string_.StringDtype'>\n"
     ]
    }
   ],
   "source": [
    "try:\n",
    "    DataSet[Schema](\n",
    "        {\n",
    "            \"a\": [None, 42, lambda x: x]\n",
    "        }\n",
    "    )\n",
    "except TypeError as e:\n",
    "    print(e)"
   ]
  },
  {
   "source": [
    "# The `Any` type\n",
    "\n",
    "In some cases it is useful to be able to define that a column can have `Any` type. This can either be a column of a specific type (e.g. `int64`) or a mix of data types (i.e. an `object`)"
   ],
   "cell_type": "markdown",
   "metadata": {}
  },
  {
   "cell_type": "code",
   "execution_count": 17,
   "metadata": {},
   "outputs": [
    {
     "output_type": "execute_result",
     "data": {
      "text/plain": [
       "a     int64\n",
       "b    object\n",
       "dtype: object"
      ]
     },
     "metadata": {},
     "execution_count": 17
    }
   ],
   "source": [
    "class Schema:\n",
    "    a: Any\n",
    "    b: Any\n",
    "\n",
    "df = DataSet[Schema](\n",
    "    {\n",
    "        \"a\": [1, 2, 3],\n",
    "        \"b\": [\"1\", 2, None]\n",
    "    }\n",
    ")\n",
    "df.dtypes"
   ]
  },
  {
   "source": [
    "# Data types that are not supported in the index\n",
    "There are certain data types that pandas does not support in the index. For example, a `bool` column will be transformed to an `object` column when it is used as an index."
   ],
   "cell_type": "markdown",
   "metadata": {}
  },
  {
   "cell_type": "code",
   "execution_count": 18,
   "metadata": {},
   "outputs": [
    {
     "output_type": "execute_result",
     "data": {
      "text/plain": [
       "Index([True, False, True], dtype='object', name='a')"
      ]
     },
     "metadata": {},
     "execution_count": 18
    }
   ],
   "source": [
    "df = (\n",
    "    pd.DataFrame({\"a\": [True, False, True], \"b\": [1, 2, 3]})\n",
    "    .set_index([\"a\"])\n",
    ")\n",
    "df.index"
   ]
  },
  {
   "source": [
    "This means that you cannot use these data types in the index schema. Below is a list of all data types that cannot be used in the index."
   ],
   "cell_type": "markdown",
   "metadata": {}
  },
  {
   "cell_type": "code",
   "execution_count": 19,
   "metadata": {},
   "outputs": [
    {
     "output_type": "stream",
     "name": "stdout",
     "text": [
      "Column a is of type numpy.object, but the schema suggests <class 'bool'>\n",
      "../strictly_typed_pandas/validate_schema.py:26: SyntaxWarning: As of Pandas 1.2.4, there is no support for the following data types in the index: [<class 'bool'>, <class 'bool'>, Sparse[int64, 0], <class 'pandas.core.arrays.integer.Int64Dtype'>, <class 'pandas.core.arrays.boolean.BooleanDtype'>, <class 'pandas.core.arrays.string_.StringDtype'>]. While this may change in future versions, we sugget you proceed with caution.\n",
      "  warnings.warn(msg.format(dtypes), SyntaxWarning)\n"
     ]
    }
   ],
   "source": [
    "class IndexSchema:\n",
    "    a: bool\n",
    "    b: np.bool\n",
    "    c: pd.SparseDtype(dtype=np.int64)  # including other variations of SparseDtype\n",
    "    d: pd.IntervalDtype\n",
    "    e: pd.Int64Dtype\n",
    "    f: pd.BooleanDtype\n",
    "    g: pd.StringDtype\n",
    "\n",
    "class Schema:\n",
    "    h: int\n",
    "\n",
    "try:\n",
    "    IndexedDataSet[IndexSchema, Schema]()\n",
    "except TypeError as e:\n",
    "    print(e)"
   ]
  },
  {
   "source": [
    "# Anything missing?\n",
    "There's a zoo of data types used in pandas. Is anything missing? Contact me and I'll look into it!"
   ],
   "cell_type": "markdown",
   "metadata": {}
  },
  {
   "cell_type": "code",
   "execution_count": null,
   "metadata": {},
   "outputs": [],
   "source": []
  }
 ]
}